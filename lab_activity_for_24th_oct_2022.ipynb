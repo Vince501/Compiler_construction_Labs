{
  "nbformat": 4,
  "nbformat_minor": 0,
  "metadata": {
    "colab": {
      "provenance": [],
      "collapsed_sections": [],
      "toc_visible": true,
      "include_colab_link": true
    },
    "kernelspec": {
      "name": "python3",
      "display_name": "Python 3"
    },
    "language_info": {
      "name": "python"
    },
    "gpuClass": "standard"
  },
  "cells": [
    {
      "cell_type": "markdown",
      "metadata": {
        "id": "view-in-github",
        "colab_type": "text"
      },
      "source": [
        "<a href=\"https://colab.research.google.com/github/Vince501/Compiler_construction_Labs/blob/main/lab_activity_for_24th_oct_2022.ipynb\" target=\"_parent\"><img src=\"https://colab.research.google.com/assets/colab-badge.svg\" alt=\"Open In Colab\"/></a>"
      ]
    },
    {
      "cell_type": "markdown",
      "source": [
        "## **Compiler Construction Lab Exercises**"
      ],
      "metadata": {
        "id": "tsBEkXiun_gR"
      }
    },
    {
      "cell_type": "markdown",
      "source": [
        "# **Group Members:**\n",
        "1. 121289 - Atonya Whitney A. Madafali\n",
        "2. 121472 - Kimani, Vicky Nightingale\n",
        "3. 114439 - Laura Ayushi Ochieng'\n",
        "5. 121720 - Mutungi Vincent Mugambi\n"
      ],
      "metadata": {
        "id": "cT_KsBdnoFla"
      }
    },
    {
      "cell_type": "markdown",
      "source": [
        "# **lab activity for 24th_Oct**"
      ],
      "metadata": {
        "id": "hJljcusqT79G"
      }
    },
    {
      "cell_type": "markdown",
      "source": [
        "Do a quick summary of the front end.\n",
        "In this activity, use a string example e.g.  **x+2*y** to show the work of the various phases of the front end.\n"
      ],
      "metadata": {
        "id": "thFxfp5pUNA-"
      }
    },
    {
      "cell_type": "markdown",
      "source": [
        "Phase 1: Lexical Analysis\n",
        "\n",
        "Here, the character stream from the source program is grouped in meaningful sequences by identifying the tokens. It makes the entry of the corresponding tickets into the symbol table and passes that token to next phase. Therefore, the tokens of the sample string will be;\n",
        "\n",
        "x → Identifier\n",
        "\n",
        ".+ → Operator\n",
        "\n",
        "2 → Number\n",
        "\n",
        ".* → Assignment Operator\n",
        "\n",
        "y → Identifier\n",
        "\n",
        " \n",
        "Phase 2: Syntax Analysis\n",
        "\n",
        "Also called a parsing. A parser constructs the parse tree. It takes all the tokens one by one and uses Context-Free Grammar to construct the parse tree.\n",
        "\n",
        "For instance; \n",
        "\n",
        "Exp ? exp op exp\n",
        "\t| num\n",
        "\t| id\n",
        "\n",
        "Op ?    +\n",
        "\t| -\n",
        "\t| *\n",
        "\t| /\n",
        "\n",
        "String x+2*y\n",
        "\n",
        "1. exp → exp op exp\n",
        "2. exp → id(x) op exp\n",
        "3. exp → id(x) + exp\n",
        "4. exp → id(x) + exp op exp\n",
        "5. exp → id(x) + num(2) op exp\n",
        "6. exp → id(x) + num(2) * exp\n",
        "7. exp → id(x) + num(2) * id(y)\n",
        "\n",
        "Phase 3: Semantic Analysis\n",
        "\n",
        "Semantic analysis checks whether the parse tree constructed follows the rules of language.\n",
        "\n",
        "Phase 4: Intermediate Representation \n",
        "\n",
        "After semantic analysis the compiler generates an intermediate code of the source code for the target machine.\n"
      ],
      "metadata": {
        "id": "RgN-lwxyUcBm"
      }
    }
  ]
}